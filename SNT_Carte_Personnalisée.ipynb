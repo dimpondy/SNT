{
  "nbformat": 4,
  "nbformat_minor": 0,
  "metadata": {
    "colab": {
      "name": "SNT_Carte Personnalisée.ipynb",
      "provenance": [],
      "collapsed_sections": [],
      "toc_visible": true
    },
    "kernelspec": {
      "name": "python3",
      "display_name": "Python 3"
    }
  },
  "cells": [
    {
      "cell_type": "markdown",
      "metadata": {
        "id": "XGa1VbwwUJ-Z",
        "colab_type": "text"
      },
      "source": [
        "# Carte personnalisée sous PYTHON"
      ]
    },
    {
      "cell_type": "markdown",
      "metadata": {
        "id": "04nbPAbgUpQO",
        "colab_type": "text"
      },
      "source": [
        "Nous allons utiliser la Bibliothèque Folium, une bibliothèque Python très  pratique pour l'analyse et la visualisation de données.\n",
        "Folium va donc nous permettre de créer nos propres cartes à partir des cartes proposées par Open Street Map "
      ]
    },
    {
      "cell_type": "code",
      "metadata": {
        "id": "7jstG8l0UBvC",
        "colab_type": "code",
        "colab": {}
      },
      "source": [
        "import folium\n",
        "c= folium.Map(location=[45.503759,-73.575847])\n",
        "c.save('maCarte.html')"
      ],
      "execution_count": 0,
      "outputs": []
    },
    {
      "cell_type": "markdown",
      "metadata": {
        "id": "pt1f_v81cw8N",
        "colab_type": "text"
      },
      "source": [
        "###Une fois exécuter, télécharger la page maCarte.html générée et située dans la fenètre de gauche ( Fichiers)"
      ]
    },
    {
      "cell_type": "markdown",
      "metadata": {
        "id": "S1jXcaDpU7RM",
        "colab_type": "text"
      },
      "source": [
        "\n",
        "*   La première ligne : \"import folium\" permet d'importer la bibliothèque folium afin de pouvoir l'utiliser\n",
        "  \n",
        "*     La deuxième ligne est le coeur de notre programme, nous définissons une variable \"c\" qui va contenir notre objet carte. \n",
        "    \"folium.Map(location=[45.503759, -73.575847])\" génère cet objet carte, \n",
        "    la carte sera centrée sur le point de **latitude \"45.503759\" et de longitude \" -73.575847\".**\n",
        "*    Plus généralement nous avons \"folium.Map(location=[latitude, longitude])\". \n",
        "    Il suffit donc de renseigner la bonne longitude et la bonne latitude pour que la carte soit centrée sur le point désiré.\n",
        "*   La dernière ligne permet de générer la page HTML qui va permettre d'afficher la carte.\n"
      ]
    },
    {
      "cell_type": "markdown",
      "metadata": {
        "id": "cpZ3wlTXakBj",
        "colab_type": "text"
      },
      "source": [
        "##Recopie et modifie les lignes du Programme pour qu'il génère une carte centrée sur la ville de ton choix (la longitude et la latitude d'une ville sont facilement trouvables sur le web).\n"
      ]
    },
    {
      "cell_type": "code",
      "metadata": {
        "id": "8RwpVboFautx",
        "colab_type": "code",
        "colab": {}
      },
      "source": [
        "\n",
        "\n",
        "\n",
        "\n",
        "\n"
      ],
      "execution_count": 0,
      "outputs": []
    },
    {
      "cell_type": "markdown",
      "metadata": {
        "id": "d5RgtoEga4--",
        "colab_type": "text"
      },
      "source": [
        "#Il est ainsi possible d'obtenir un niveau de zoom différent en ajoutant un paramètre \"zoom_start\" "
      ]
    },
    {
      "cell_type": "markdown",
      "metadata": {
        "id": "jbX5lYL-abxA",
        "colab_type": "text"
      },
      "source": [
        "##Analyser et éxécutez les lignes suivantes"
      ]
    },
    {
      "cell_type": "code",
      "metadata": {
        "id": "_4PUh1swU_MY",
        "colab_type": "code",
        "colab": {}
      },
      "source": [
        "import folium\n",
        "c= folium.Map(location=[45.503759,-73.575847],zoom_start=15)\n",
        "c.save('macarte2.html')"
      ],
      "execution_count": 0,
      "outputs": []
    },
    {
      "cell_type": "markdown",
      "metadata": {
        "id": "YLrtweVma_ah",
        "colab_type": "text"
      },
      "source": [
        "#Il est possible d'ajouter des marqueurs sur la carte. Un marqueur sera simplement défini par ses coordonnées (latitude et longitude). "
      ]
    },
    {
      "cell_type": "markdown",
      "metadata": {
        "colab_type": "text",
        "id": "WEDPVEiLbIZW"
      },
      "source": [
        "##Analyser et éxécutez les lignes suivantes"
      ]
    },
    {
      "cell_type": "code",
      "metadata": {
        "id": "ygE7rK2DVqLa",
        "colab_type": "code",
        "colab": {}
      },
      "source": [
        "import folium\n",
        "c= folium.Map(location=[45.503759,-73.575847],zoom_start=20)\n",
        "folium.Marker([45.503759,-73.575847]).add_to(c)\n",
        "c.save('maCarte3.html')"
      ],
      "execution_count": 0,
      "outputs": []
    },
    {
      "cell_type": "markdown",
      "metadata": {
        "id": "j0ukGIlLbK0B",
        "colab_type": "text"
      },
      "source": [
        "#Il est possible de faire afficher un pop-up sur le marqueur"
      ]
    },
    {
      "cell_type": "code",
      "metadata": {
        "id": "zCwfRWKaV8n5",
        "colab_type": "code",
        "colab": {}
      },
      "source": [
        "import folium\n",
        "c= folium.Map(location=[45.503759,-73.575847],zoom_start=20)\n",
        "folium.Marker([45.503759,-73.575847],popup=\"Café des amis\").add_to(c)\n",
        "c.save('maCarte4.html')"
      ],
      "execution_count": 0,
      "outputs": []
    },
    {
      "cell_type": "markdown",
      "metadata": {
        "id": "wy_qHLk_ewqY",
        "colab_type": "text"
      },
      "source": [
        "#OBJECTIF FINAL :Créer une carte avec un zoom suffisant pour marquer le lieu de tes rèves avec un popo-up affichant un SLOGAN"
      ]
    },
    {
      "cell_type": "code",
      "metadata": {
        "id": "Uq1Bx1FmfA2l",
        "colab_type": "code",
        "colab": {}
      },
      "source": [
        "\n",
        "\n",
        "\n",
        "\n",
        "\n",
        "\n",
        "\n",
        "\n",
        "\n",
        "\n",
        "\n",
        "\n",
        "\n",
        "\n",
        "\n",
        "\n",
        "\n"
      ],
      "execution_count": 0,
      "outputs": []
    },
    {
      "cell_type": "markdown",
      "metadata": {
        "id": "lbmk4mlZbTWe",
        "colab_type": "text"
      },
      "source": [
        "*Pour aller plus loin*"
      ]
    },
    {
      "cell_type": "markdown",
      "metadata": {
        "id": "h3IfAtZlZOko",
        "colab_type": "text"
      },
      "source": [
        "\n",
        "\n",
        "*  https://makina-corpus.com/blog/metier/2019/python-carto\n",
        "* https://towardsdatascience.com/data-101s-spatial-visualizations-and-analysis-in-python-with-folium-39730da2adf\n"
      ]
    }
  ]
}