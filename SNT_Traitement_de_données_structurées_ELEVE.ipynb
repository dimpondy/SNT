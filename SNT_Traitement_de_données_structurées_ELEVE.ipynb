{
  "nbformat": 4,
  "nbformat_minor": 0,
  "metadata": {
    "colab": {
      "name": "SNT Traitement de données structurées ELEVE.ipynb",
      "provenance": [],
      "collapsed_sections": [],
      "toc_visible": true
    },
    "kernelspec": {
      "name": "python3",
      "display_name": "Python 3"
    }
  },
  "cells": [
    {
      "cell_type": "markdown",
      "metadata": {
        "id": "lKjvHS-vIR0t",
        "colab_type": "text"
      },
      "source": [
        "# Traitement de données sous PYTHON Partie I"
      ]
    },
    {
      "cell_type": "markdown",
      "metadata": {
        "id": "XfxR8aSQTGaB",
        "colab_type": "text"
      },
      "source": [
        "Document ELEVE"
      ]
    },
    {
      "cell_type": "markdown",
      "metadata": {
        "id": "52w1714vDGMH",
        "colab_type": "text"
      },
      "source": [
        " Pour traiter des données, nous allons utiliser la bibliothèque **Python Pandas** contenant de nouveaux outils par rapport au langage de base. La bibliothèque Pandas est donc très utilisée pour tout ce qui touche au traitement des données en Sciences, économie, ....\n",
        "\n",
        "Nous allons utiliser des données très simples au format CSV déja vues auparavant: ces données sont contenues dans le fichier ident_virgule.csv. "
      ]
    },
    {
      "cell_type": "markdown",
      "metadata": {
        "id": "dyes8KHjDZEz",
        "colab_type": "text"
      },
      "source": [
        "Après avoir **importé** le fichier *ident_virgule.csv* dans les **Fichiers** de **JupiterNotebook**"
      ]
    },
    {
      "cell_type": "markdown",
      "metadata": {
        "id": "nvWuFiudRzHA",
        "colab_type": "text"
      },
      "source": [
        "Vous pouvez directement **visualiser** dans la fenètre de droite le contenu en cliquant sur le fichier"
      ]
    },
    {
      "cell_type": "markdown",
      "metadata": {
        "id": "5-Niurx4GcUV",
        "colab_type": "text"
      },
      "source": [
        "# Exécutez et Analysez le programme ci-dessous"
      ]
    },
    {
      "cell_type": "code",
      "metadata": {
        "id": "SReFOfQoDoCt",
        "colab_type": "code",
        "colab": {
          "base_uri": "https://localhost:8080/",
          "height": 88
        },
        "outputId": "87b3d102-9b28-40b7-d51c-ac13baf8bc10"
      },
      "source": [
        "import pandas\n",
        "iden=pandas.read_csv(\"ident_virgule.csv\")\n",
        "print(iden)"
      ],
      "execution_count": 7,
      "outputs": [
        {
          "output_type": "stream",
          "text": [
            "      nom       prenom date_naissance\n",
            "0  Durand  Jean-Pierre     23/05/1985\n",
            "1  Dupont   Christophe     15/12/1967\n",
            "2   Terta        Henry     12/06/1978\n"
          ],
          "name": "stdout"
        }
      ]
    },
    {
      "cell_type": "markdown",
      "metadata": {
        "id": "3zI31ioNDbhM",
        "colab_type": "text"
      },
      "source": [
        " Le code ci-dessus est très simple :\n",
        "   *   Avec la première ligne, nous importons la bibliothèque pandas afin de pouvoir l'utiliser\n",
        "*   À la deuxième ligne, nous créons une variable \"iden\" qui va contenir les données présentes dans le fichier \"ident_virgule.csv\""
      ]
    },
    {
      "cell_type": "markdown",
      "metadata": {
        "id": "cPY-J1zuFnSD",
        "colab_type": "text"
      },
      "source": [
        "Les nombres présents dans la 1ère colonne sont appelés des **index**. Chaque ligne du tableau a un index (première ligne : index 0, deuxième ligne index 1...) . Les index commencent par O et non 1."
      ]
    },
    {
      "cell_type": "markdown",
      "metadata": {
        "colab_type": "text",
        "id": "rVggpz0oGkQb"
      },
      "source": [
        "#Analyse du programme"
      ]
    },
    {
      "cell_type": "markdown",
      "metadata": {
        "id": "K4rbb6HEGt_5",
        "colab_type": "text"
      },
      "source": [
        "Complète le programme et Vérifie que la variable \"info\" contient bien le prénom \"christophe\" "
      ]
    },
    {
      "cell_type": "code",
      "metadata": {
        "id": "-Hf_CxtJGKYJ",
        "colab_type": "code",
        "colab": {
          "base_uri": "https://localhost:8080/",
          "height": 35
        },
        "outputId": "9bc7c912-473c-481e-e592-26467707a95c"
      },
      "source": [
        "import pandas\n",
        "iden=pandas.read_csv(\"ident_virgule.csv\")\n",
        "info=iden.loc[1,'prenom']\n"
      ],
      "execution_count": 22,
      "outputs": [
        {
          "output_type": "stream",
          "text": [
            "Christophe\n"
          ],
          "name": "stdout"
        }
      ]
    },
    {
      "cell_type": "markdown",
      "metadata": {
        "colab_type": "text",
        "id": "fIdeR9g4GlaM"
      },
      "source": [
        "#Modification du programme"
      ]
    },
    {
      "cell_type": "markdown",
      "metadata": {
        "id": "KjJ5aFxOGRyI",
        "colab_type": "text"
      },
      "source": [
        "EX 1 Modifiez le programme pour que la variable info contienne \"12/06/1978\" "
      ]
    },
    {
      "cell_type": "code",
      "metadata": {
        "id": "AR_ejWmPGTmo",
        "colab_type": "code",
        "colab": {
          "base_uri": "https://localhost:8080/",
          "height": 35
        },
        "outputId": "24b388bc-e241-4e06-8e7f-2105b83fc993"
      },
      "source": [
        "import pandas\n",
        "iden=pandas.read_csv(\"ident_virgule.csv\")\n",
        "info=iden.loc[.................]\n",
        "................................"
      ],
      "execution_count": 1,
      "outputs": [
        {
          "output_type": "stream",
          "text": [
            "12/06/1978\n"
          ],
          "name": "stdout"
        }
      ]
    },
    {
      "cell_type": "markdown",
      "metadata": {
        "colab_type": "text",
        "id": "xC6gbfFLHMyJ"
      },
      "source": [
        "#Analyse du programme"
      ]
    },
    {
      "cell_type": "markdown",
      "metadata": {
        "id": "kDgSXxOvHVay",
        "colab_type": "text"
      },
      "source": [
        "Testez le programme suivant : "
      ]
    },
    {
      "cell_type": "code",
      "metadata": {
        "id": "jnHiVKRQHNzy",
        "colab_type": "code",
        "colab": {
          "base_uri": "https://localhost:8080/",
          "height": 88
        },
        "outputId": "a66975e7-5707-4bfd-dad5-d72a237f5a92"
      },
      "source": [
        "import pandas\n",
        "iden=pandas.read_csv(\"ident_virgule.csv\")\n",
        "info=iden.loc[:,'nom']\n",
        "print(info)"
      ],
      "execution_count": 2,
      "outputs": [
        {
          "output_type": "stream",
          "text": [
            "0    Durand\n",
            "1    Dupont\n",
            "2     Terta\n",
            "Name: nom, dtype: object\n"
          ],
          "name": "stdout"
        }
      ]
    },
    {
      "cell_type": "markdown",
      "metadata": {
        "id": "Q0N-kbDVHYx_",
        "colab_type": "text"
      },
      "source": [
        " Vérifiez que la variable \"info\" contient bien toutes les données de la dernière ligne (index 2)\n",
        "\n",
        "\n",
        "\n",
        "---\n",
        "\n"
      ]
    },
    {
      "cell_type": "markdown",
      "metadata": {
        "id": "0S_LazkDIDm2",
        "colab_type": "text"
      },
      "source": [
        "Il est aussi possible de récupérer seulement certaines lignes et certaines colonnes en utilisant la notation suivante : loc[[index_ligne_1,index_ligne_2,...],[index_colonne_1,index_colonne_2,...]] "
      ]
    },
    {
      "cell_type": "markdown",
      "metadata": {
        "colab_type": "text",
        "id": "z1oTBcTlHiFi"
      },
      "source": [
        "#Analyse du programme"
      ]
    },
    {
      "cell_type": "markdown",
      "metadata": {
        "colab_type": "text",
        "id": "7bK9BL5OHp3Q"
      },
      "source": [
        "Testez le programme suivant : "
      ]
    },
    {
      "cell_type": "code",
      "metadata": {
        "id": "QMCHRxc5HlDY",
        "colab_type": "code",
        "colab": {
          "base_uri": "https://localhost:8080/",
          "height": 71
        },
        "outputId": "c5d03f8a-b625-4623-c55e-c0c295c768a8"
      },
      "source": [
        "import pandas\n",
        "iden=pandas.read_csv(\"ident_virgule.csv\")\n",
        "info=iden.loc[[0,1],['nom','date_naissance']]\n",
        "print(info)"
      ],
      "execution_count": 3,
      "outputs": [
        {
          "output_type": "stream",
          "text": [
            "      nom date_naissance\n",
            "0  Durand     23/05/1985\n",
            "1  Dupont     15/12/1967\n"
          ],
          "name": "stdout"
        }
      ]
    },
    {
      "cell_type": "markdown",
      "metadata": {
        "id": "xg7iWLQOHtJe",
        "colab_type": "text"
      },
      "source": [
        "Vérifiez que la variable \"info\" contient bien un tableau avec uniquement les colonnes \"nom\" et \"date_naissance\" de la première ligne (index 0) et de la deuxième ligne (index 1). "
      ]
    },
    {
      "cell_type": "markdown",
      "metadata": {
        "id": "eY3_6iBAJ7YL",
        "colab_type": "text"
      },
      "source": [
        "A vous de jouer en affichant uniquement le prénom du 2ème nom"
      ]
    },
    {
      "cell_type": "code",
      "metadata": {
        "id": "LOXwXu2KKArB",
        "colab_type": "code",
        "colab": {}
      },
      "source": [
        "import pandas\n",
        "\n",
        "\n",
        "\n"
      ],
      "execution_count": 0,
      "outputs": []
    },
    {
      "cell_type": "markdown",
      "metadata": {
        "id": "hyFsV7fpIoqP",
        "colab_type": "text"
      },
      "source": [
        "# Traitement de données sous PYTHON Partie II"
      ]
    },
    {
      "cell_type": "markdown",
      "metadata": {
        "id": "9G1PDaMfIyvB",
        "colab_type": "text"
      },
      "source": [
        "Par la suite, nous allons travailler sur les données contenues dans le fichier *ville_virgule.csv.* "
      ]
    },
    {
      "cell_type": "markdown",
      "metadata": {
        "colab_type": "text",
        "id": "7wgktp2bNZAw"
      },
      "source": [
        "#Analyse du programme"
      ]
    },
    {
      "cell_type": "code",
      "metadata": {
        "id": "doWYn4aeI9jL",
        "colab_type": "code",
        "colab": {}
      },
      "source": [
        "import pandas\n",
        "info_villes=pandas.read_csv(\"villes_virgule.csv\")\n",
        "print(info_villes)"
      ],
      "execution_count": 0,
      "outputs": []
    },
    {
      "cell_type": "markdown",
      "metadata": {
        "colab_type": "text",
        "id": "KeK3ytMUNj-x"
      },
      "source": [
        "#Analyse du programme"
      ]
    },
    {
      "cell_type": "code",
      "metadata": {
        "id": "UeSp7xJ0KRiy",
        "colab_type": "code",
        "colab": {
          "base_uri": "https://localhost:8080/",
          "height": 142
        },
        "outputId": "4e6005bf-7b2d-4742-93ae-68ab401287d0"
      },
      "source": [
        "import pandas\n",
        "info_villes=pandas.read_csv(\"villes_virgule.csv\")\n",
        "nom_alt=info_villes.loc[info_villes[\"alt_min\"]>1500,[\"nom\",\"alt_min\"]]\n",
        "print(nom_alt)"
      ],
      "execution_count": 9,
      "outputs": [
        {
          "output_type": "stream",
          "text": [
            "                     nom  alt_min\n",
            "1618              Larche     1606\n",
            "1790            Ristolas     1571\n",
            "1798         Saint-Véran     1756\n",
            "1847  Molines-en-Queyras     1625\n",
            "1904              Abriès     1513\n",
            "1923      Villar-d'Arêne     1519\n"
          ],
          "name": "stdout"
        }
      ]
    },
    {
      "cell_type": "markdown",
      "metadata": {
        "id": "9N08YSc-Nsxg",
        "colab_type": "text"
      },
      "source": [
        "Dans le \"loc\", l'expression \"info_villes[\"alt_min\"]>1500\" est bien avant la virgule, elle concerne donc les index des lignes du tableau. On sélectionnera uniquement les lignes qui auront la valeur du descripteur \"alt_min\" supérieure à 1500. Nous allons donc bien sélectionner les villes qui ont une altitude minimum supérieure à 1500 m "
      ]
    },
    {
      "cell_type": "markdown",
      "metadata": {
        "id": "XyIC40RBNB2w",
        "colab_type": "text"
      },
      "source": [
        "##Modifier le programme pour qu'il affiche les villes d'altitude max inférieure à 1000 m d'altitude "
      ]
    },
    {
      "cell_type": "code",
      "metadata": {
        "id": "2WzDm6W3NBBR",
        "colab_type": "code",
        "colab": {}
      },
      "source": [
        "import pandas\n",
        "info_villes=pandas.read_csv(\"villes_virgule.csv\")\n",
        "nom_alt=..................................................\n",
        "print(nom_alt)"
      ],
      "execution_count": 0,
      "outputs": []
    },
    {
      "cell_type": "markdown",
      "metadata": {
        "id": "x1wMLLexN1M7",
        "colab_type": "text"
      },
      "source": [
        "###En vous inspirant de ce qui a été fait auparavant, écrivez un programme qui permettra d'avoir les villes qui ont une densité d'habitant inférieure à 50 (dans le tableau ainsi créé, on aura 3 colonnes : le nom de la ville, la densité de la population et l'altitude minimum) "
      ]
    },
    {
      "cell_type": "code",
      "metadata": {
        "id": "m2dDU3DaN9BU",
        "colab_type": "code",
        "colab": {
          "base_uri": "https://localhost:8080/",
          "height": 267
        },
        "outputId": "58394470-389e-4bdc-fe0f-39867d3ad8a3"
      },
      "source": [
        "import pandas\n",
        "info_villes=pandas.read_csv(\"villes_virgule.csv\")\n",
        "nom_alt=..................................................\n",
        "print(nom_alt)\n"
      ],
      "execution_count": 15,
      "outputs": [
        {
          "output_type": "stream",
          "text": [
            "             nom  dens  alt_min\n",
            "2         Plagne    20      560\n",
            "4       Pouillat    14      333\n",
            "7      Corcelles    17      780\n",
            "9       Relevant    37      235\n",
            "14          Béon    36      228\n",
            "...          ...   ...      ...\n",
            "1994       Andon    10      911\n",
            "1995   Belvédère     8      575\n",
            "1997  Malaussène    13      154\n",
            "1998       Beuil     6     1040\n",
            "2001      Rigaud     6      333\n",
            "\n",
            "[1350 rows x 3 columns]\n"
          ],
          "name": "stdout"
        }
      ]
    },
    {
      "cell_type": "markdown",
      "metadata": {
        "id": "mVz8fkWjN_BO",
        "colab_type": "text"
      },
      "source": [
        "\n",
        "\n",
        "---\n",
        "\n"
      ]
    },
    {
      "cell_type": "markdown",
      "metadata": {
        "id": "U0devjJOOAI4",
        "colab_type": "text"
      },
      "source": [
        "**Il est possible de combiner plusieurs facteurs de sélection en utilisant un \"et\"(\"&\") ou un \"ou\"(\"|\"** "
      ]
    },
    {
      "cell_type": "markdown",
      "metadata": {
        "id": "st-_VMyHP1z0",
        "colab_type": "text"
      },
      "source": [
        "##Combien de villes ont une densité de population supérieure à 50 et une altitude minimum supérieure à 1200 m ? Facile .. A vous de jouer !"
      ]
    },
    {
      "cell_type": "code",
      "metadata": {
        "id": "hZXAgz7TONyg",
        "colab_type": "code",
        "colab": {
          "base_uri": "https://localhost:8080/",
          "height": 71
        },
        "outputId": "24937821-7e63-4ceb-c0af-12358d1fb4fa"
      },
      "source": [
        "import pandas\n",
        "info_villes=pandas.read_csv(\"villes_virgule.csv\")\n",
        "nom_alt=info_villes.loc[(info_villes[\"alt_min\"]>1200) & (info_villes[\"dens\"]>50),[\"nom\",\"dens\",\"alt_min\"]]\n",
        "print(nom_alt)"
      ],
      "execution_count": 18,
      "outputs": [
        {
          "output_type": "stream",
          "text": [
            "                   nom  dens  alt_min\n",
            "1775    Saint-Chaffrey    64     1274\n",
            "1875  Puy-Saint-Pierre    65     1237\n"
          ],
          "name": "stdout"
        }
      ]
    },
    {
      "cell_type": "markdown",
      "metadata": {
        "id": "W_TsQpFMQfj5",
        "colab_type": "text"
      },
      "source": [
        "Nous pouvons calculer des moyennes..."
      ]
    },
    {
      "cell_type": "code",
      "metadata": {
        "id": "KcV-uL0RQThe",
        "colab_type": "code",
        "colab": {
          "base_uri": "https://localhost:8080/",
          "height": 35
        },
        "outputId": "86f9930f-c188-4961-8337-ebee36a69af3"
      },
      "source": [
        "# Ce programme ..................\n",
        "import pandas\n",
        "info_villes=pandas.read_csv(\"villes_virgule.csv\")\n",
        "moyenne_alt_min=info_villes.loc[:,\"alt_min\"].mean()\n",
        "print(moyenne_alt_min,\"m\")"
      ],
      "execution_count": 20,
      "outputs": [
        {
          "output_type": "stream",
          "text": [
            "287.1613545816733 m\n"
          ],
          "name": "stdout"
        }
      ]
    },
    {
      "cell_type": "markdown",
      "metadata": {
        "id": "dx2ee0X1QmW-",
        "colab_type": "text"
      },
      "source": [
        "##Écrivez un programme permettant de calculer le nombre moyen d'habitants en 2012"
      ]
    },
    {
      "cell_type": "code",
      "metadata": {
        "id": "FBSfZqxiQoUw",
        "colab_type": "code",
        "colab": {}
      },
      "source": [
        "\n",
        "\n",
        "\n",
        "\n"
      ],
      "execution_count": 0,
      "outputs": []
    },
    {
      "cell_type": "markdown",
      "metadata": {
        "id": "BdPiZQizQvZ2",
        "colab_type": "text"
      },
      "source": [
        "##Il est aussi possible de trier le tableau en fonction des valeurs d'un descripteur. Il suffit d'utiliser l'instruction \"sort_values\" "
      ]
    },
    {
      "cell_type": "markdown",
      "metadata": {
        "id": "nHEUtChcQ7WJ",
        "colab_type": "text"
      },
      "source": [
        "Exécute et analyse le programme"
      ]
    },
    {
      "cell_type": "code",
      "metadata": {
        "id": "kZ8Hb6KSQxfR",
        "colab_type": "code",
        "colab": {
          "base_uri": "https://localhost:8080/",
          "height": 267
        },
        "outputId": "a5425b4c-7b29-4b52-81f5-613d9caaad54"
      },
      "source": [
        "import pandas\n",
        "info_villes=pandas.read_csv(\"villes_virgule.csv\")\n",
        "tri_alt_min=info_villes.sort_values(by=[\"alt_min\"])\n",
        "print(tri_alt_min)"
      ],
      "execution_count": 21,
      "outputs": [
        {
          "output_type": "stream",
          "text": [
            "      dep                   nom           cp  ...      lat  alt_min  alt_max\n",
            "1963    6  Villefranche-sur-Mer         6230  ...  43.7000        0      575\n",
            "2003    6     Villeneuve-Loubet         6270  ...  43.6500        0      213\n",
            "2002    6                Cannes  06400-06150  ...  43.5500        0      260\n",
            "2000    6                   Èze         6360  ...  43.7167        0      700\n",
            "1999    6               Antibes  06600-06160  ...  43.5833        0      163\n",
            "...   ...                   ...          ...  ...      ...      ...      ...\n",
            "1923    5        Villar-d'Arêne         5480  ...  45.0423     1519     3883\n",
            "1790    5              Ristolas         5460  ...  44.7667     1571     3294\n",
            "1618    4                Larche         4540  ...  44.4500     1606     3165\n",
            "1847    5    Molines-en-Queyras         5350  ...  44.7333     1625     3160\n",
            "1798    5           Saint-Véran         5350  ...  44.7000     1756     3175\n",
            "\n",
            "[2008 rows x 12 columns]\n"
          ],
          "name": "stdout"
        }
      ]
    },
    {
      "cell_type": "markdown",
      "metadata": {
        "id": "Uy2tM_fuQ5kd",
        "colab_type": "text"
      },
      "source": [
        "Vous devriez obtenir un nouveau tableau de données \"tri_alt_min\" trié dans l'ordre croissant des altitudes minimums. Quelle est la ville ayant l'altitude minimum la plus faible de France ? Il est aussi possible de trier par ordre décroissant en ajoutant \"ascending=False\" : "
      ]
    },
    {
      "cell_type": "code",
      "metadata": {
        "id": "2pwcIvgsRJvJ",
        "colab_type": "code",
        "colab": {
          "base_uri": "https://localhost:8080/",
          "height": 267
        },
        "outputId": "c615ac48-209e-4199-c08a-a54ebb7fff7b"
      },
      "source": [
        "import pandas\n",
        "info_villes=pandas.read_csv(\"villes_virgule.csv\")\n",
        "tri_alt_min=info_villes.sort_values(by=[\"alt_min\"], ascending=False)\n",
        "print(tri_alt_min)"
      ],
      "execution_count": 22,
      "outputs": [
        {
          "output_type": "stream",
          "text": [
            "      dep                   nom           cp  ...      lat  alt_min  alt_max\n",
            "1798    5           Saint-Véran         5350  ...  44.7000     1756     3175\n",
            "1847    5    Molines-en-Queyras         5350  ...  44.7333     1625     3160\n",
            "1618    4                Larche         4540  ...  44.4500     1606     3165\n",
            "1790    5              Ristolas         5460  ...  44.7667     1571     3294\n",
            "1923    5        Villar-d'Arêne         5480  ...  45.0423     1519     3883\n",
            "...   ...                   ...          ...  ...      ...      ...      ...\n",
            "1999    6               Antibes  06600-06160  ...  43.5833        0      163\n",
            "2000    6                   Èze         6360  ...  43.7167        0      700\n",
            "1963    6  Villefranche-sur-Mer         6230  ...  43.7000        0      575\n",
            "2002    6                Cannes  06400-06150  ...  43.5500        0      260\n",
            "2003    6     Villeneuve-Loubet         6270  ...  43.6500        0      213\n",
            "\n",
            "[2008 rows x 12 columns]\n"
          ],
          "name": "stdout"
        }
      ]
    },
    {
      "cell_type": "markdown",
      "metadata": {
        "id": "UBMaWxJbRR4t",
        "colab_type": "text"
      },
      "source": [
        "##Quelle est la ville ayant l'altitude minimum la plus importante de France ? "
      ]
    },
    {
      "cell_type": "code",
      "metadata": {
        "id": "Mxi6JSWMRWOh",
        "colab_type": "code",
        "colab": {}
      },
      "source": [
        "\n",
        "\n",
        "\n",
        "\n"
      ],
      "execution_count": 0,
      "outputs": []
    },
    {
      "cell_type": "markdown",
      "metadata": {
        "id": "iUmCdkgtRXAS",
        "colab_type": "text"
      },
      "source": [
        "##Écrivez un programme permettant de répondre à la question suivante : quelle est la ville ayant la densité de population la plus forte ? "
      ]
    },
    {
      "cell_type": "code",
      "metadata": {
        "id": "96k8JzO2SV9V",
        "colab_type": "code",
        "colab": {}
      },
      "source": [
        ""
      ],
      "execution_count": 0,
      "outputs": []
    },
    {
      "cell_type": "code",
      "metadata": {
        "id": "o8BkUn_9RYm5",
        "colab_type": "code",
        "colab": {}
      },
      "source": [
        "\n",
        "\n",
        "\n",
        "\n",
        "\n"
      ],
      "execution_count": 0,
      "outputs": []
    },
    {
      "cell_type": "markdown",
      "metadata": {
        "id": "d7pNFC-aSZgT",
        "colab_type": "text"
      },
      "source": [
        "Voous pouvez écrire toutes les fonctions utisées pour traiter, filtrer les données sous Python"
      ]
    },
    {
      "cell_type": "markdown",
      "metadata": {
        "id": "iXChxfYCSPOW",
        "colab_type": "text"
      },
      "source": [
        "\n",
        "\n",
        "\n",
        "\n",
        "\n",
        "*Idée originale de David Roche.*"
      ]
    }
  ]
}