{
  "nbformat": 4,
  "nbformat_minor": 0,
  "metadata": {
    "kernelspec": {
      "display_name": "Python 3",
      "language": "python",
      "name": "python3"
    },
    "language_info": {
      "codemirror_mode": {
        "name": "ipython",
        "version": 3
      },
      "file_extension": ".py",
      "mimetype": "text/x-python",
      "name": "python",
      "nbconvert_exporter": "python",
      "pygments_lexer": "ipython3",
      "version": "3.7.3"
    },
    "colab": {
      "name": "SNT Extration Carte NMEA et positionnement ELEVE.ipynb",
      "provenance": [],
      "collapsed_sections": []
    }
  },
  "cells": [
    {
      "cell_type": "markdown",
      "metadata": {
        "id": "OViw0BEpGqeF",
        "colab_type": "text"
      },
      "source": [
        "# Extraction des coordonnées GPGGA d'une trame NMEA et positionnement sur une  carte avec Python"
      ]
    },
    {
      "cell_type": "markdown",
      "metadata": {
        "id": "Ppo1xEeXGqeN",
        "colab_type": "text"
      },
      "source": [
        "Les programmes présentés utilisent deux modules python, à installer une fois. \n",
        "Pour cela il faut exécuter les instructions :\n",
        "!pip install geopy\n",
        "et\n",
        "!pip install folium.\n",
        "Il suffit donc de \"décommenter\" les deux lignes ci-dessous (enlever les #), et d'exécuter la cellule."
      ]
    },
    {
      "cell_type": "code",
      "metadata": {
        "id": "tzSOXqZIGqeU",
        "colab_type": "code",
        "colab": {}
      },
      "source": [
        "#!pip install geopy\n",
        "!pip install folium"
      ],
      "execution_count": 0,
      "outputs": []
    },
    {
      "cell_type": "markdown",
      "metadata": {
        "id": "0InCVwaRGqej",
        "colab_type": "text"
      },
      "source": [
        "## Partie 1 : Récupérons des coordonnées géographiques et une adresse à partir d'une trame GPGGA"
      ]
    },
    {
      "cell_type": "markdown",
      "metadata": {
        "id": "cnE3igD8Gqem",
        "colab_type": "text"
      },
      "source": [
        "Les fonctions et démarches suivantes permettent d'obtenir **la latitude et la longitude** contenues dans une trame de type GPGGA (GPS). Nous allons procéder par étapes, et de visualiser les résultats "
      ]
    },
    {
      "cell_type": "code",
      "metadata": {
        "id": "Nv0Wxv2_Gqeq",
        "colab_type": "code",
        "colab": {}
      },
      "source": [
        "trame =\"$GPGGA,095039.00,4910.763194,N,00022.968045,W,1,18,0.6,53.4,M,47.8,M,,*4A\""
      ],
      "execution_count": 0,
      "outputs": []
    },
    {
      "cell_type": "code",
      "metadata": {
        "id": "u7fBSmzhGqez",
        "colab_type": "code",
        "colab": {}
      },
      "source": [
        "# on crée une liste en coupant la trame à chaque virgule\n",
        "liste = trame.split(',')\n",
        "liste"
      ],
      "execution_count": 0,
      "outputs": []
    },
    {
      "cell_type": "markdown",
      "metadata": {
        "id": "WO9s1FEzIZLg",
        "colab_type": "text"
      },
      "source": [
        "##Exécutez le programme et expliquer son rôle"
      ]
    },
    {
      "cell_type": "markdown",
      "metadata": {
        "id": "St6rw7-GHNGj",
        "colab_type": "text"
      },
      "source": [
        "##Quel est le rang de la donnée succeptible de contenir **la latitude ?**"
      ]
    },
    {
      "cell_type": "code",
      "metadata": {
        "id": "ZAoANEpZGqe-",
        "colab_type": "code",
        "colab": {}
      },
      "source": [
        "def latitude(listeGPGGA):\n",
        "    valeur = float(liste[2])#troisième terme de la liste, donc d'indice 2\n",
        "    degre = int(valeur/100)\n",
        "    minutes = valeur%100 #conserve les chiffres à partir des dizaines vers la droite\n",
        "    if liste[3]=='N':\n",
        "        return degre + minutes/60 #latitude Nord, donc positive\n",
        "    else : \n",
        "        return -degre - minutes/60 #latitude negative"
      ],
      "execution_count": 0,
      "outputs": []
    },
    {
      "cell_type": "markdown",
      "metadata": {
        "id": "NFM5nwWRHvX1",
        "colab_type": "text"
      },
      "source": [
        "###Analyse du programme \n",
        "*    Que fait la ligne 3 ?\n",
        "*    Idem pour la ligne 4\n",
        "*    Expliquer la lettre N et le rapport avec le lignes suivantes "
      ]
    },
    {
      "cell_type": "markdown",
      "metadata": {
        "colab_type": "text",
        "id": "AGfeKyULHVqE"
      },
      "source": [
        "##Quel est le rang de la données succeptible de contenir **la longitude ?** "
      ]
    },
    {
      "cell_type": "code",
      "metadata": {
        "id": "5e__DJx1GqfJ",
        "colab_type": "code",
        "colab": {}
      },
      "source": [
        "def longitude(listeGPGGA):\n",
        "    valeur = float(liste[4])#cinquième terme de la liste, donc d'indice 4\n",
        "    degre = int(valeur/100)\n",
        "    minutes = valeur%100 #conserve les chiffres à partir des dizaines vers la droite\n",
        "    if liste[5]=='E':\n",
        "        return degre + minutes/60 #longitude Est, donc positive\n",
        "    else : \n",
        "        return -degre - minutes/60 #longitude negative"
      ],
      "execution_count": 0,
      "outputs": []
    },
    {
      "cell_type": "markdown",
      "metadata": {
        "colab_type": "text",
        "id": "KTvpqfk4Igdz"
      },
      "source": [
        "###Analyse du programme \n",
        "*    Que fait la ligne 3 ?\n",
        "*    Idem pour la ligne 4\n",
        "*    Expliquer la lettre N et le rapport avec le lignes suivantes "
      ]
    },
    {
      "cell_type": "markdown",
      "metadata": {
        "colab_type": "text",
        "id": "bkd6qQntHd8F"
      },
      "source": [
        "## Affichons **la latitude et la longitude** "
      ]
    },
    {
      "cell_type": "code",
      "metadata": {
        "id": "_iVZjeoCGqfP",
        "colab_type": "code",
        "colab": {
          "base_uri": "https://localhost:8080/",
          "height": 35
        },
        "outputId": "15853812-a9bb-4980-8e5c-dc353f659d49"
      },
      "source": [
        "latitude = latitude(liste)\n",
        "longitude = longitude(liste)\n",
        "latitude, longitude"
      ],
      "execution_count": 7,
      "outputs": [
        {
          "output_type": "execute_result",
          "data": {
            "text/plain": [
              "(49.17938656666667, -0.38280075)"
            ]
          },
          "metadata": {
            "tags": []
          },
          "execution_count": 7
        }
      ]
    },
    {
      "cell_type": "markdown",
      "metadata": {
        "id": "IbpKHLwFGqfW",
        "colab_type": "text"
      },
      "source": [
        "##Le module **geopy** permet notamment de déterminer l'adresse d'un lieu repéré par ses coordonnées."
      ]
    },
    {
      "cell_type": "code",
      "metadata": {
        "id": "vbsgL1zNGqfZ",
        "colab_type": "code",
        "colab": {
          "base_uri": "https://localhost:8080/",
          "height": 35
        },
        "outputId": "aa40db19-e802-4c0b-cc8a-2979f63b2d4c"
      },
      "source": [
        "from geopy.geocoders import Nominatim\n",
        "geocoder = Nominatim(user_agent=\"SNT\") # placer une chaine de caractères quelconque\n",
        "localisation = geocoder.reverse([latitude, longitude])\n",
        "localisation.address"
      ],
      "execution_count": 10,
      "outputs": [
        {
          "output_type": "execute_result",
          "data": {
            "text/plain": [
              "'Rectorat de Caen, 168, Rue Caponière, Le Beau Site, Bas de Venoix, Caen, Calvados, Normandie, France métropolitaine, 14000, France'"
            ]
          },
          "metadata": {
            "tags": []
          },
          "execution_count": 10
        }
      ]
    },
    {
      "cell_type": "markdown",
      "metadata": {
        "id": "ahpuHlInGqfg",
        "colab_type": "text"
      },
      "source": [
        "## Partie 2 : Placer un marqueur sur une carte avec folium"
      ]
    },
    {
      "cell_type": "markdown",
      "metadata": {
        "id": "KfWzPf8vGqfj",
        "colab_type": "text"
      },
      "source": [
        "Ici, latitude et longitude ont des valeurs obtenues lors de la partie 1. On peut utiliser ce qui suit avec des coordonnées quelconques, en donnant des valeurs numériques aux variables latitude et longitude."
      ]
    },
    {
      "cell_type": "code",
      "metadata": {
        "id": "ekRd1iluGqfk",
        "colab_type": "code",
        "colab": {}
      },
      "source": [
        "import folium\n",
        "carte = folium.Map(location=[latitude, longitude], zoom_start=14)\n",
        "folium.Marker([latitude, longitude], \n",
        "              popup=\"Rectorat\",\n",
        "              #icon=folium.Icon(color='red')\n",
        "             ).add_to(carte)\n",
        "\n",
        "#si l'on souhaite créer un fichier  html contenant la carte :\n",
        "#carte.save('maCarte.html')\n",
        "\n",
        "#si l'on souhaite afficher la carte dans le document jupyter : \n",
        "carte"
      ],
      "execution_count": 0,
      "outputs": []
    },
    {
      "cell_type": "markdown",
      "metadata": {
        "id": "QvzSGNm9JDkZ",
        "colab_type": "text"
      },
      "source": [
        "##Appliquer les fonctions vues précédement pour zoommer et faire apparaitre un pop-up"
      ]
    },
    {
      "cell_type": "code",
      "metadata": {
        "id": "MIJZsEb4JObR",
        "colab_type": "code",
        "colab": {}
      },
      "source": [
        "\n",
        "\n",
        "\n",
        "\n",
        "\n",
        "\n",
        "\n",
        "\n",
        "\n",
        "\n",
        "\n",
        "\n",
        "\n",
        "\n",
        "\n",
        "\n",
        "\n",
        "\n"
      ],
      "execution_count": 0,
      "outputs": []
    }
  ]
}